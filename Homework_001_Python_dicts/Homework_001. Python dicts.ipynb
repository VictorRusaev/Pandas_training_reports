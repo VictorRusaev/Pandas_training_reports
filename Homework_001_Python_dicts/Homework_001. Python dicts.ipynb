{
 "cells": [
  {
   "cell_type": "markdown",
   "id": "2485f3b0",
   "metadata": {},
   "source": [
    "## Homework_001. Python dicts"
   ]
  },
  {
   "cell_type": "markdown",
   "id": "90a4e9cd",
   "metadata": {},
   "source": [
    "### Task 1\n",
    "There are a lot of different kind of fruits at the store.<br>\n",
    "Please create function which input is any number of names of fruits and their amount and output is total amount of fruits."
   ]
  },
  {
   "cell_type": "code",
   "execution_count": 1,
   "id": "52372921",
   "metadata": {},
   "outputs": [],
   "source": [
    "def count_fruits (some_dict: dict[str, int]) -> int:\n",
    "    sum = 0\n",
    "    for i in some_dict:\n",
    "        sum = sum + some_dict.get(i)\n",
    "    return sum"
   ]
  },
  {
   "cell_type": "code",
   "execution_count": 2,
   "id": "af38c8a8",
   "metadata": {},
   "outputs": [
    {
     "data": {
      "text/plain": [
       "98"
      ]
     },
     "execution_count": 2,
     "metadata": {},
     "output_type": "execute_result"
    }
   ],
   "source": [
    "fruits = {'apples': 22, 'oranges': 40, 'peaches': 17, 'plums': 19}\n",
    "\n",
    "count_fruits (fruits)"
   ]
  },
  {
   "cell_type": "markdown",
   "id": "b2b217c0",
   "metadata": {},
   "source": [
    "### Task 2\n",
    "\n",
    "We have list of advertisement costs.<br>\n",
    "But there are a lot of mistakes. Some of costs are negative.<br>\n",
    "Delete such kind of costs from the list and calculate total cost.<br>\n",
    "[100, 125, -90, 345, 655, -1, 0, 200]"
   ]
  },
  {
   "cell_type": "code",
   "execution_count": 3,
   "id": "99b77b1c",
   "metadata": {},
   "outputs": [],
   "source": [
    "def ad_cost (some_list: list) -> int:\n",
    "    some_list = [i for i in some_list if i > 0]\n",
    "    return sum(some_list)"
   ]
  },
  {
   "cell_type": "code",
   "execution_count": 4,
   "id": "6f060282",
   "metadata": {},
   "outputs": [
    {
     "data": {
      "text/plain": [
       "1425"
      ]
     },
     "execution_count": 4,
     "metadata": {},
     "output_type": "execute_result"
    }
   ],
   "source": [
    "ads_costs = [100, 125, -90, 345, 655, -1, 0, 200]\n",
    "\n",
    "ad_cost(ads_costs)"
   ]
  },
  {
   "cell_type": "markdown",
   "id": "b0d287f8",
   "metadata": {},
   "source": [
    "### Task 3\n",
    "We have two lists.<br>\n",
    "Date of sale:<br>\n",
    "['2021-09-14', '2021-12-15', '2021-09-08', '2021-12-05', '2021-10-09', '2021-09-30', '2021-12-22', '2021-11-29', '2021-12-24', '2021-11-26', '2021-10-27', '2021-12-18', '2021-11-09', '2021-11-23', '2021-09-27', '2021-10-02', '2021-12-27', '2021-09-20', '2021-12-13', '2021-11-01', '2021-11-09', '2021-12-06', '2021-12-08', '2021-10-09', '2021-10-31', '2021-09-30', '2021-11-09', '2021-12-13', '2021-10-26', '2021-12-09']<br>\n",
    "<br>\n",
    "Revenue:<br>\n",
    "[1270, 8413, 9028, 3703, 5739, 4095, 295, 4944, 5723, 3701, 4471, 651, 7037, 4274, 6275, 4988, 6930, 2971, 6592, 2004, 2822, 519, 3406, 2732, 5015, 2008, 316, 6333, 5700, 2887]<br>\n",
    "<br>\n",
    "3.1 Calculate November revenue.<br>\n",
    "\n",
    "3.2 Calculate revenue according to month.<br>\n",
    "For this purpose create function, which input is two lists (dates and revenue) and output is dictionary(keys are months, values are monthly revenues)."
   ]
  },
  {
   "cell_type": "markdown",
   "id": "21af5dac",
   "metadata": {},
   "source": [
    "#### Task 3.1\n",
    "Calculate November revenue."
   ]
  },
  {
   "cell_type": "code",
   "execution_count": 5,
   "id": "b8d64aec",
   "metadata": {},
   "outputs": [],
   "source": [
    "def november_revenue (some_list_1: list, some_list_2: list) -> int:\n",
    "    sum = 0\n",
    "    for i in range(len(some_list_1)):\n",
    "        date = list(map(int, str.split(some_list_1[i], '-')))\n",
    "        if date[1] == 11:\n",
    "            sum = sum + some_list_2[i]\n",
    "    return sum\n"
   ]
  },
  {
   "cell_type": "code",
   "execution_count": 6,
   "id": "1b3f171c",
   "metadata": {},
   "outputs": [
    {
     "data": {
      "text/plain": [
       "25098"
      ]
     },
     "execution_count": 6,
     "metadata": {},
     "output_type": "execute_result"
    }
   ],
   "source": [
    "dates = ['2021-09-14', '2021-12-15', '2021-09-08', '2021-12-05', '2021-10-09', '2021-09-30', '2021-12-22', \n",
    "         '2021-11-29', '2021-12-24', '2021-11-26', '2021-10-27', '2021-12-18', '2021-11-09', '2021-11-23', \n",
    "         '2021-09-27', '2021-10-02', '2021-12-27', '2021-09-20', '2021-12-13', '2021-11-01', '2021-11-09', \n",
    "         '2021-12-06', '2021-12-08', '2021-10-09', '2021-10-31', '2021-09-30', '2021-11-09', '2021-12-13', \n",
    "         '2021-10-26', '2021-12-09']\n",
    "\n",
    "revenues = [1270, 8413, 9028, 3703, 5739, 4095, 295, \n",
    "             4944, 5723, 3701, 4471, 651, 7037, 4274, \n",
    "             6275, 4988, 6930, 2971, 6592, 2004, 2822, \n",
    "             519, 3406, 2732, 5015, 2008, 316, 6333, \n",
    "             5700, 2887]\n",
    "\n",
    "november_revenue (dates, revenues)"
   ]
  },
  {
   "cell_type": "markdown",
   "id": "9d451328",
   "metadata": {},
   "source": [
    "#### Task 3.2\n",
    "Calculate revenue according to month.<br>\n",
    "For this purpose create function, which input is two lists (dates and revenue) and output is dictionary(keys are months, values are monthly revenues)."
   ]
  },
  {
   "cell_type": "markdown",
   "id": "9447f581",
   "metadata": {},
   "source": [
    "Below you can see code which properly works only at Python version 3.10 or later."
   ]
  },
  {
   "cell_type": "code",
   "execution_count": 7,
   "id": "7394918b",
   "metadata": {},
   "outputs": [
    {
     "ename": "SyntaxError",
     "evalue": "invalid syntax (3038862652.py, line 17)",
     "output_type": "error",
     "traceback": [
      "\u001b[1;36m  File \u001b[1;32m\"C:\\Users\\admin\\AppData\\Local\\Temp\\ipykernel_16060\\3038862652.py\"\u001b[1;36m, line \u001b[1;32m17\u001b[0m\n\u001b[1;33m    match month:\u001b[0m\n\u001b[1;37m          ^\u001b[0m\n\u001b[1;31mSyntaxError\u001b[0m\u001b[1;31m:\u001b[0m invalid syntax\n"
     ]
    }
   ],
   "source": [
    "def monthly_revenue (some_list_1: list, some_list_2: list) :\n",
    "    sums = {'january': 0,\n",
    "           'february': 0,\n",
    "           'march': 0,\n",
    "           'april': 0,\n",
    "           'may': 0,\n",
    "           'june': 0,\n",
    "           'july': 0,\n",
    "           'august': 0,\n",
    "           'september': 0,\n",
    "           'october': 0,\n",
    "           'november': 0,\n",
    "           'december': 0}\n",
    "    for i in range(len(some_list_1)):\n",
    "        date = list(map(int, str.split(some_list_1[i], '-')))\n",
    "        month = date[1]\n",
    "        match month:\n",
    "            case 1:\n",
    "                sums.update(january = sums['january'] + some_list_2[i])\n",
    "            case 2:\n",
    "                sums.update(february = sums['february'] + some_list_2[i])\n",
    "            case 3:\n",
    "                sums.update(march = sums['march'] + some_list_2[i])\n",
    "            case 4:\n",
    "                sums.update(april = sums['april'] + some_list_2[i])\n",
    "            case 5:\n",
    "                sums.update(may = sums['may'] + some_list_2[i])\n",
    "            case 6:\n",
    "                sums.update(june = sums['june'] + some_list_2[i])\n",
    "            case 7:\n",
    "                sums.update(july = sums['july'] + some_list_2[i])\n",
    "            case 8:\n",
    "                sums.update(august = sums['august'] + some_list_2[i])\n",
    "            case 9:\n",
    "                sums.update(september = sums['september'] + some_list_2[i])\n",
    "            case 10:\n",
    "                sums.update(october = sums['october'] + some_list_2[i])\n",
    "            case 11:\n",
    "                sums.update(november = sums['november'] + some_list_2[i])\n",
    "            case 12:\n",
    "                sums.update(december = sums['december'] + some_list_2[i])\n",
    " \n",
    "    return sums"
   ]
  },
  {
   "cell_type": "code",
   "execution_count": 10,
   "id": "a3076976",
   "metadata": {},
   "outputs": [
    {
     "ename": "NameError",
     "evalue": "name 'monthly_revenue' is not defined",
     "output_type": "error",
     "traceback": [
      "\u001b[1;31m---------------------------------------------------------------------------\u001b[0m",
      "\u001b[1;31mNameError\u001b[0m                                 Traceback (most recent call last)",
      "\u001b[1;32m~\\AppData\\Local\\Temp\\ipykernel_13924\\996790468.py\u001b[0m in \u001b[0;36m<module>\u001b[1;34m\u001b[0m\n\u001b[0;32m     11\u001b[0m              5700, 2887]\n\u001b[0;32m     12\u001b[0m \u001b[1;33m\u001b[0m\u001b[0m\n\u001b[1;32m---> 13\u001b[1;33m \u001b[0mmonthly_revenue\u001b[0m \u001b[1;33m(\u001b[0m\u001b[0mdates\u001b[0m\u001b[1;33m,\u001b[0m \u001b[0mrevenues\u001b[0m\u001b[1;33m)\u001b[0m\u001b[1;33m\u001b[0m\u001b[1;33m\u001b[0m\u001b[0m\n\u001b[0m",
      "\u001b[1;31mNameError\u001b[0m: name 'monthly_revenue' is not defined"
     ]
    }
   ],
   "source": [
    "dates = ['2021-09-14', '2021-12-15', '2021-09-08', '2021-12-05', '2021-10-09', '2021-09-30', '2021-12-22', \n",
    "         '2021-11-29', '2021-12-24', '2021-11-26', '2021-10-27', '2021-12-18', '2021-11-09', '2021-11-23', \n",
    "         '2021-09-27', '2021-10-02', '2021-12-27', '2021-09-20', '2021-12-13', '2021-11-01', '2021-11-09', \n",
    "         '2021-12-06', '2021-12-08', '2021-10-09', '2021-10-31', '2021-09-30', '2021-11-09', '2021-12-13', \n",
    "         '2021-10-26', '2021-12-09']\n",
    "\n",
    "revenues = [1270, 8413, 9028, 3703, 5739, 4095, 295, \n",
    "             4944, 5723, 3701, 4471, 651, 7037, 4274, \n",
    "             6275, 4988, 6930, 2971, 6592, 2004, 2822, \n",
    "             519, 3406, 2732, 5015, 2008, 316, 6333, \n",
    "             5700, 2887]\n",
    "\n",
    "monthly_revenue (dates, revenues)"
   ]
  },
  {
   "cell_type": "code",
   "execution_count": null,
   "id": "cc0e7f55",
   "metadata": {},
   "outputs": [],
   "source": []
  }
 ],
 "metadata": {
  "kernelspec": {
   "display_name": "Python 3 (ipykernel)",
   "language": "python",
   "name": "python3"
  },
  "language_info": {
   "codemirror_mode": {
    "name": "ipython",
    "version": 3
   },
   "file_extension": ".py",
   "mimetype": "text/x-python",
   "name": "python",
   "nbconvert_exporter": "python",
   "pygments_lexer": "ipython3",
   "version": "3.9.13"
  }
 },
 "nbformat": 4,
 "nbformat_minor": 5
}
